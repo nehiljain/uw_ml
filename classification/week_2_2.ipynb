{
 "cells": [
  {
   "cell_type": "markdown",
   "metadata": {},
   "source": [
    "# Assignment 2 Week 2"
   ]
  },
  {
   "cell_type": "code",
   "execution_count": 1,
   "metadata": {},
   "outputs": [],
   "source": [
    "import sys, os\n",
    "from datetime import datetime, timedelta,date\n",
    "import pandas as pd\n",
    "import matplotlib.pyplot as plt\n",
    "plt.style.use('classic')\n",
    "%matplotlib inline\n",
    "import numpy as np\n",
    "import pandas as pd\n",
    "import seaborn as sns\n",
    "import json\n",
    "import string\n",
    "from sklearn.feature_extraction.text import CountVectorizer\n",
    "from sklearn import linear_model"
   ]
  },
  {
   "cell_type": "markdown",
   "metadata": {},
   "source": [
    "### Load Data"
   ]
  },
  {
   "cell_type": "code",
   "execution_count": 2,
   "metadata": {},
   "outputs": [],
   "source": [
    "products_df = pd.read_csv('./../data/amazon_baby_subset.csv')"
   ]
  },
  {
   "cell_type": "code",
   "execution_count": 3,
   "metadata": {},
   "outputs": [],
   "source": [
    "with open('./../data/important_words.json', 'r') as f: # Reads the list of most frequent words\n",
    "    important_words = json.load(f)\n",
    "important_words = [str(s) for s in important_words]"
   ]
  },
  {
   "cell_type": "code",
   "execution_count": 4,
   "metadata": {},
   "outputs": [
    {
     "name": "stdout",
     "output_type": "stream",
     "text": [
      "# of positive reviews = 26579\n",
      "# of negative reviews = 26493\n"
     ]
    }
   ],
   "source": [
    "print('# of positive reviews =', len(products_df[products_df['sentiment']==1]))\n",
    "print('# of negative reviews =', len(products_df[products_df['sentiment']==-1]))"
   ]
  },
  {
   "cell_type": "code",
   "execution_count": 5,
   "metadata": {},
   "outputs": [],
   "source": [
    "products_df.review = products_df.review.fillna('')\n",
    "products_df['reviews_clean'] = products_df.review.str.replace('[^\\w\\s]','').fillna('')\n",
    "for word in important_words:\n",
    "    products_df[word] = products_df['reviews_clean'].apply(lambda s : s.split().count(word))\n"
   ]
  },
  {
   "cell_type": "code",
   "execution_count": 6,
   "metadata": {},
   "outputs": [],
   "source": [
    "train_indexes = pd.read_json('../data/module-4-assignment-train-idx.json')\n",
    "val_indexes = pd.read_json('../data/module-4-assignment-validation-idx.json')"
   ]
  },
  {
   "cell_type": "code",
   "execution_count": 7,
   "metadata": {},
   "outputs": [],
   "source": [
    "train_data = products_df.iloc[train_indexes[0].tolist()]\n",
    "val_data = products_df.iloc[val_indexes[0].tolist()]"
   ]
  },
  {
   "cell_type": "code",
   "execution_count": 8,
   "metadata": {},
   "outputs": [],
   "source": [
    "def get_numpy_data(data_frame, features, label):\n",
    "    \"\"\"\n",
    "    features: list of feature columns\n",
    "    label: str label columns name\n",
    "    \"\"\"\n",
    "    data_frame['intercept'] = 1\n",
    "    features = ['intercept'] + features\n",
    "    features_frame = data_frame[features]\n",
    "    feature_matrix = features_frame.as_matrix()\n",
    "    label_frame  = data_frame[label]\n",
    "    label_array = label_frame.as_matrix()\n",
    "    return(feature_matrix, label_array)"
   ]
  },
  {
   "cell_type": "code",
   "execution_count": 9,
   "metadata": {},
   "outputs": [
    {
     "name": "stderr",
     "output_type": "stream",
     "text": [
      "/Users/nehiljain/.pyenv/versions/3.4.6/envs/py34/lib/python3.4/site-packages/ipykernel_launcher.py:6: SettingWithCopyWarning: \n",
      "A value is trying to be set on a copy of a slice from a DataFrame.\n",
      "Try using .loc[row_indexer,col_indexer] = value instead\n",
      "\n",
      "See the caveats in the documentation: http://pandas.pydata.org/pandas-docs/stable/indexing.html#indexing-view-versus-copy\n",
      "  \n"
     ]
    }
   ],
   "source": [
    "feature_matrix_train, sentiment_train = get_numpy_data(train_data, important_words, 'sentiment')\n",
    "feature_matrix_valid, sentiment_valid = get_numpy_data(val_data, important_words, 'sentiment')"
   ]
  },
  {
   "cell_type": "code",
   "execution_count": 10,
   "metadata": {},
   "outputs": [],
   "source": [
    "def predict_probability(feature_matrix, coefficients):\n",
    "    # Take dot product of feature_matrix and coefficients  \n",
    "    # YOUR CODE HERE\n",
    "    scores = feature_matrix.dot(coefficients)\n",
    "    \n",
    "    # Compute P(y_i = +1 | x_i, w) using the link function\n",
    "    # YOUR CODE HERE\n",
    "    predictions = 1.0/(1.0 + np.exp(-scores))\n",
    "    \n",
    "    # return predictions\n",
    "    return predictions"
   ]
  },
  {
   "cell_type": "code",
   "execution_count": 11,
   "metadata": {},
   "outputs": [],
   "source": [
    "def feature_derivative_with_L2(errors, feature, coefficient, l2_penalty, feature_is_constant): \n",
    "    derivative = np.dot(errors, feature)\n",
    "    if not feature_is_constant:\n",
    "        derivative = np.dot(errors, feature) - 2 * l2_penalty * coefficient\n",
    "    return derivative\n",
    "    "
   ]
  },
  {
   "cell_type": "code",
   "execution_count": 12,
   "metadata": {},
   "outputs": [],
   "source": [
    "def compute_log_likelihood_with_L2(feature_matrix, sentiment, coefficients, l2_penalty):\n",
    "    indicator = (sentiment==+1)\n",
    "    scores = np.dot(feature_matrix, coefficients)\n",
    "    \n",
    "    lp = np.sum((indicator-1)*scores - np.log(1. + np.exp(-scores))) - l2_penalty*np.sum(coefficients[1:]**2)\n",
    "    \n",
    "    return lp"
   ]
  },
  {
   "cell_type": "code",
   "execution_count": 13,
   "metadata": {},
   "outputs": [],
   "source": [
    "def logistic_regression_with_L2(feature_matrix, sentiment, initial_coefficients, step_size, l2_penalty, max_iter):\n",
    "    coefficients = np.array(initial_coefficients) # make sure it's a numpy array\n",
    "    for itr in range(max_iter):\n",
    "        # Predict P(y_i = +1|x_i,w) using your predict_probability() function\n",
    "        ## YOUR CODE HERE\n",
    "        predictions = predict_probability(feature_matrix, coefficients)\n",
    "        \n",
    "        # Compute indicator value for (y_i = +1)\n",
    "        indicator = (sentiment==+1)\n",
    "        \n",
    "        # Compute the errors as indicator - predictions\n",
    "        errors = indicator - predictions\n",
    "        for j in range(len(coefficients)): # loop over each coefficient\n",
    "            is_intercept = (j == 0)\n",
    "            # Recall that feature_matrix[:,j] is the feature column associated with coefficients[j].\n",
    "            # Compute the derivative for coefficients[j]. Save it in a variable called derivative\n",
    "            ## YOUR CODE HERE\n",
    "            derivative = feature_derivative_with_L2(errors, feature_matrix[:, j], coefficients[j], l2_penalty, is_intercept)\n",
    "            \n",
    "            \n",
    "            # add the step size times the derivative to the current coefficient\n",
    "            ## YOUR CODE HERE\n",
    "            coefficients[j] = coefficients[j] + step_size * derivative\n",
    "        \n",
    "        # Checking whether log likelihood is increasing\n",
    "        if itr <= 15 or (itr <= 100 and itr % 10 == 0) or (itr <= 1000 and itr % 100 == 0) \\\n",
    "        or (itr <= 10000 and itr % 1000 == 0) or itr % 10000 == 0:\n",
    "            lp = compute_log_likelihood_with_L2(feature_matrix, sentiment, coefficients, l2_penalty)\n",
    "            print('iteration %*d: log likelihood of observed labels = %.8f' % (int(np.ceil(np.log10(max_iter))), itr, lp))\n",
    "    return coefficients"
   ]
  },
  {
   "cell_type": "code",
   "execution_count": 14,
   "metadata": {},
   "outputs": [
    {
     "name": "stdout",
     "output_type": "stream",
     "text": [
      "iteration   0: log likelihood of observed labels = -29179.39021798\n",
      "iteration   1: log likelihood of observed labels = -29003.71035760\n",
      "iteration   2: log likelihood of observed labels = -28834.65864198\n",
      "iteration   3: log likelihood of observed labels = -28671.70363804\n",
      "iteration   4: log likelihood of observed labels = -28514.42569916\n",
      "iteration   5: log likelihood of observed labels = -28362.47749087\n",
      "iteration   6: log likelihood of observed labels = -28215.56033041\n",
      "iteration   7: log likelihood of observed labels = -28073.40981663\n",
      "iteration   8: log likelihood of observed labels = -27935.78694478\n",
      "iteration   9: log likelihood of observed labels = -27802.47249034\n",
      "iteration  10: log likelihood of observed labels = -27673.26336093\n",
      "iteration  11: log likelihood of observed labels = -27547.97014376\n",
      "iteration  12: log likelihood of observed labels = -27426.41538599\n",
      "iteration  13: log likelihood of observed labels = -27308.43232975\n",
      "iteration  14: log likelihood of observed labels = -27193.86393412\n",
      "iteration  15: log likelihood of observed labels = -27082.56208265\n",
      "iteration  20: log likelihood of observed labels = -26570.41399295\n",
      "iteration  30: log likelihood of observed labels = -25725.46551453\n",
      "iteration  40: log likelihood of observed labels = -25055.50706617\n",
      "iteration  50: log likelihood of observed labels = -24509.60617513\n",
      "iteration  60: log likelihood of observed labels = -24054.94641305\n",
      "iteration  70: log likelihood of observed labels = -23669.48130974\n",
      "iteration  80: log likelihood of observed labels = -23337.85450117\n",
      "iteration  90: log likelihood of observed labels = -23049.03170883\n",
      "iteration 100: log likelihood of observed labels = -22794.86926428\n",
      "iteration 200: log likelihood of observed labels = -21283.24651736\n",
      "iteration 300: log likelihood of observed labels = -20570.92327096\n",
      "iteration 400: log likelihood of observed labels = -20152.16221743\n",
      "iteration 500: log likelihood of observed labels = -19876.57076540\n"
     ]
    }
   ],
   "source": [
    "coefficients_0_penalty = logistic_regression_with_L2(feature_matrix_train, sentiment_train,\n",
    "                                                     initial_coefficients=np.zeros(194),\n",
    "                                                     step_size=5e-6, l2_penalty=0, max_iter=501)"
   ]
  },
  {
   "cell_type": "code",
   "execution_count": 15,
   "metadata": {},
   "outputs": [
    {
     "name": "stdout",
     "output_type": "stream",
     "text": [
      "iteration   0: log likelihood of observed labels = -29179.39391674\n",
      "iteration   1: log likelihood of observed labels = -29003.73193908\n",
      "iteration   2: log likelihood of observed labels = -28834.71118800\n",
      "iteration   3: log likelihood of observed labels = -28671.79927422\n",
      "iteration   4: log likelihood of observed labels = -28514.57569763\n",
      "iteration   5: log likelihood of observed labels = -28362.69234865\n",
      "iteration   6: log likelihood of observed labels = -28215.84983345\n",
      "iteration   7: log likelihood of observed labels = -28073.78309488\n",
      "iteration   8: log likelihood of observed labels = -27936.25252111\n",
      "iteration   9: log likelihood of observed labels = -27803.03832495\n",
      "iteration  10: log likelihood of observed labels = -27673.93689203\n",
      "iteration  11: log likelihood of observed labels = -27548.75832500\n",
      "iteration  12: log likelihood of observed labels = -27427.32472103\n",
      "iteration  13: log likelihood of observed labels = -27309.46890412\n",
      "iteration  14: log likelihood of observed labels = -27195.03344463\n",
      "iteration  15: log likelihood of observed labels = -27083.86986449\n",
      "iteration  20: log likelihood of observed labels = -26572.48214952\n",
      "iteration  30: log likelihood of observed labels = -25729.30415479\n",
      "iteration  40: log likelihood of observed labels = -25061.31628954\n",
      "iteration  50: log likelihood of observed labels = -24517.49124154\n",
      "iteration  60: log likelihood of observed labels = -24064.95835099\n",
      "iteration  70: log likelihood of observed labels = -23681.63870978\n",
      "iteration  80: log likelihood of observed labels = -23352.15589638\n",
      "iteration  90: log likelihood of observed labels = -23065.46294636\n",
      "iteration 100: log likelihood of observed labels = -22813.40806868\n",
      "iteration 200: log likelihood of observed labels = -21321.09310116\n",
      "iteration 300: log likelihood of observed labels = -20624.93503640\n",
      "iteration 400: log likelihood of observed labels = -20219.86834090\n",
      "iteration 500: log likelihood of observed labels = -19956.06115322\n",
      "iteration   0: log likelihood of observed labels = -29179.39946486\n",
      "iteration   1: log likelihood of observed labels = -29003.76430910\n",
      "iteration   2: log likelihood of observed labels = -28834.78999644\n",
      "iteration   3: log likelihood of observed labels = -28671.94269968\n",
      "iteration   4: log likelihood of observed labels = -28514.80063527\n",
      "iteration   5: log likelihood of observed labels = -28363.01452813\n",
      "iteration   6: log likelihood of observed labels = -28216.28391523\n",
      "iteration   7: log likelihood of observed labels = -28074.34275308\n",
      "iteration   8: log likelihood of observed labels = -27936.95051717\n",
      "iteration   9: log likelihood of observed labels = -27803.88657442\n",
      "iteration  10: log likelihood of observed labels = -27674.94652580\n",
      "iteration  11: log likelihood of observed labels = -27549.93974565\n",
      "iteration  12: log likelihood of observed labels = -27428.68765477\n",
      "iteration  13: log likelihood of observed labels = -27311.02244877\n",
      "iteration  14: log likelihood of observed labels = -27196.78611381\n",
      "iteration  15: log likelihood of observed labels = -27085.82962847\n",
      "iteration  20: log likelihood of observed labels = -26575.58039867\n",
      "iteration  30: log likelihood of observed labels = -25735.05119321\n",
      "iteration  40: log likelihood of observed labels = -25070.00835616\n",
      "iteration  50: log likelihood of observed labels = -24529.28227205\n",
      "iteration  60: log likelihood of observed labels = -24079.92099609\n",
      "iteration  70: log likelihood of observed labels = -23699.79707227\n",
      "iteration  80: log likelihood of observed labels = -23373.50412200\n",
      "iteration  90: log likelihood of observed labels = -23089.97628866\n",
      "iteration 100: log likelihood of observed labels = -22841.04973508\n",
      "iteration 200: log likelihood of observed labels = -21377.20771713\n",
      "iteration 300: log likelihood of observed labels = -20704.58905320\n",
      "iteration 400: log likelihood of observed labels = -20319.20515307\n",
      "iteration 500: log likelihood of observed labels = -20072.11139933\n",
      "iteration   0: log likelihood of observed labels = -29179.48268675\n",
      "iteration   1: log likelihood of observed labels = -29004.24954507\n",
      "iteration   2: log likelihood of observed labels = -28835.97059896\n",
      "iteration   3: log likelihood of observed labels = -28674.08993801\n",
      "iteration   4: log likelihood of observed labels = -28518.16606847\n",
      "iteration   5: log likelihood of observed labels = -28367.83182191\n",
      "iteration   6: log likelihood of observed labels = -28222.77033027\n",
      "iteration   7: log likelihood of observed labels = -28082.70042622\n",
      "iteration   8: log likelihood of observed labels = -27947.36760102\n",
      "iteration   9: log likelihood of observed labels = -27816.53827051\n",
      "iteration  10: log likelihood of observed labels = -27689.99603057\n",
      "iteration  11: log likelihood of observed labels = -27567.53912077\n",
      "iteration  12: log likelihood of observed labels = -27448.97862909\n",
      "iteration  13: log likelihood of observed labels = -27334.13715772\n",
      "iteration  14: log likelihood of observed labels = -27222.84778091\n",
      "iteration  15: log likelihood of observed labels = -27114.95319346\n",
      "iteration  20: log likelihood of observed labels = -26621.48570364\n",
      "iteration  30: log likelihood of observed labels = -25819.70668580\n",
      "iteration  40: log likelihood of observed labels = -25197.31499425\n",
      "iteration  50: log likelihood of observed labels = -24701.00839611\n",
      "iteration  60: log likelihood of observed labels = -24296.63257510\n",
      "iteration  70: log likelihood of observed labels = -23961.35505452\n",
      "iteration  80: log likelihood of observed labels = -23679.34572906\n",
      "iteration  90: log likelihood of observed labels = -23439.28158376\n",
      "iteration 100: log likelihood of observed labels = -23232.84399543\n",
      "iteration 200: log likelihood of observed labels = -22133.46323849\n",
      "iteration 300: log likelihood of observed labels = -21729.99395250\n",
      "iteration 400: log likelihood of observed labels = -21545.82968042\n",
      "iteration 500: log likelihood of observed labels = -21451.90933855\n",
      "iteration   0: log likelihood of observed labels = -29180.31490563\n",
      "iteration   1: log likelihood of observed labels = -29009.06956165\n",
      "iteration   2: log likelihood of observed labels = -28847.62063690\n",
      "iteration   3: log likelihood of observed labels = -28695.14035650\n",
      "iteration   4: log likelihood of observed labels = -28550.94573916\n",
      "iteration   5: log likelihood of observed labels = -28414.45205799\n",
      "iteration   6: log likelihood of observed labels = -28285.14484537\n",
      "iteration   7: log likelihood of observed labels = -28162.56265279\n",
      "iteration   8: log likelihood of observed labels = -28046.28609332\n",
      "iteration   9: log likelihood of observed labels = -27935.93059883\n",
      "iteration  10: log likelihood of observed labels = -27831.14140733\n",
      "iteration  11: log likelihood of observed labels = -27731.58991430\n",
      "iteration  12: log likelihood of observed labels = -27636.97087875\n",
      "iteration  13: log likelihood of observed labels = -27547.00018229\n",
      "iteration  14: log likelihood of observed labels = -27461.41296056\n",
      "iteration  15: log likelihood of observed labels = -27379.96199776\n",
      "iteration  20: log likelihood of observed labels = -27027.16813812\n",
      "iteration  30: log likelihood of observed labels = -26527.21021022\n",
      "iteration  40: log likelihood of observed labels = -26206.57117475\n",
      "iteration  50: log likelihood of observed labels = -25995.94826335\n",
      "iteration  60: log likelihood of observed labels = -25854.93534166\n",
      "iteration  70: log likelihood of observed labels = -25759.05865687\n",
      "iteration  80: log likelihood of observed labels = -25693.03396810\n",
      "iteration  90: log likelihood of observed labels = -25647.07605720\n",
      "iteration 100: log likelihood of observed labels = -25614.79122629\n",
      "iteration 200: log likelihood of observed labels = -25536.18602533\n",
      "iteration 300: log likelihood of observed labels = -25532.55292862\n",
      "iteration 400: log likelihood of observed labels = -25532.33145200\n",
      "iteration 500: log likelihood of observed labels = -25532.31571455\n"
     ]
    }
   ],
   "source": [
    "coefficients_4_penalty = logistic_regression_with_L2(feature_matrix_train, sentiment_train,\n",
    "                                                      initial_coefficients=np.zeros(194),\n",
    "                                                      step_size=5e-6, l2_penalty=4, max_iter=501)\n",
    "coefficients_10_penalty = logistic_regression_with_L2(feature_matrix_train, sentiment_train,\n",
    "                                                      initial_coefficients=np.zeros(194),\n",
    "                                                      step_size=5e-6, l2_penalty=10, max_iter=501)\n",
    "coefficients_1e2_penalty = logistic_regression_with_L2(feature_matrix_train, sentiment_train,\n",
    "                                                       initial_coefficients=np.zeros(194),\n",
    "                                                       step_size=5e-6, l2_penalty=1e2, max_iter=501)\n",
    "coefficients_1e3_penalty = logistic_regression_with_L2(feature_matrix_train, sentiment_train,\n",
    "                                                       initial_coefficients=np.zeros(194),\n",
    "                                                       step_size=5e-6, l2_penalty=1e3, max_iter=501)\n"
   ]
  },
  {
   "cell_type": "code",
   "execution_count": 16,
   "metadata": {},
   "outputs": [
    {
     "name": "stdout",
     "output_type": "stream",
     "text": [
      "iteration   0: log likelihood of observed labels = -29271.85898298\n",
      "iteration   1: log likelihood of observed labels = -29271.70949208\n",
      "iteration   2: log likelihood of observed labels = -29271.65681255\n",
      "iteration   3: log likelihood of observed labels = -29271.61132176\n",
      "iteration   4: log likelihood of observed labels = -29271.57022075\n",
      "iteration   5: log likelihood of observed labels = -29271.53300467\n",
      "iteration   6: log likelihood of observed labels = -29271.49930278\n",
      "iteration   7: log likelihood of observed labels = -29271.46878310\n",
      "iteration   8: log likelihood of observed labels = -29271.44114515\n",
      "iteration   9: log likelihood of observed labels = -29271.41611682\n",
      "iteration  10: log likelihood of observed labels = -29271.39345172\n",
      "iteration  11: log likelihood of observed labels = -29271.37292669\n",
      "iteration  12: log likelihood of observed labels = -29271.35433968\n",
      "iteration  13: log likelihood of observed labels = -29271.33750769\n",
      "iteration  14: log likelihood of observed labels = -29271.32226501\n",
      "iteration  15: log likelihood of observed labels = -29271.30846157\n",
      "iteration  20: log likelihood of observed labels = -29271.25670107\n",
      "iteration  30: log likelihood of observed labels = -29271.20597985\n",
      "iteration  40: log likelihood of observed labels = -29271.18716714\n",
      "iteration  50: log likelihood of observed labels = -29271.18018941\n",
      "iteration  60: log likelihood of observed labels = -29271.17760133\n",
      "iteration  70: log likelihood of observed labels = -29271.17664140\n",
      "iteration  80: log likelihood of observed labels = -29271.17628535\n",
      "iteration  90: log likelihood of observed labels = -29271.17615329\n",
      "iteration 100: log likelihood of observed labels = -29271.17610431\n",
      "iteration 200: log likelihood of observed labels = -29271.17607543\n",
      "iteration 300: log likelihood of observed labels = -29271.17607543\n",
      "iteration 400: log likelihood of observed labels = -29271.17607543\n",
      "iteration 500: log likelihood of observed labels = -29271.17607543\n"
     ]
    }
   ],
   "source": [
    "\n",
    "# run with L2 = 1e5\n",
    "coefficients_1e5_penalty = logistic_regression_with_L2(feature_matrix_train, sentiment_train,\n",
    "                                                       initial_coefficients=np.zeros(194),\n",
    "                                                       step_size=5e-6, l2_penalty=1e5, max_iter=501)"
   ]
  },
  {
   "cell_type": "code",
   "execution_count": 19,
   "metadata": {},
   "outputs": [],
   "source": [
    "coeff_df = pd.DataFrame({'word': ['intercept'] + important_words})"
   ]
  },
  {
   "cell_type": "code",
   "execution_count": 20,
   "metadata": {},
   "outputs": [],
   "source": [
    "def add_coeff_column(df, coeff, column_name):\n",
    "    df[column_name] = coeff\n",
    "    return df"
   ]
  },
  {
   "cell_type": "code",
   "execution_count": 21,
   "metadata": {},
   "outputs": [],
   "source": [
    "coeff_df = add_coeff_column(coeff_df, coefficients_0_penalty, 'coefficients_L2_0')\n",
    "coeff_df = add_coeff_column(coeff_df, coefficients_4_penalty, 'coefficients_L2_4')\n",
    "coeff_df = add_coeff_column(coeff_df, coefficients_10_penalty, 'coefficients_L2_10')\n",
    "coeff_df = add_coeff_column(coeff_df, coefficients_1e2_penalty, 'coefficients_L2_1e2')\n",
    "coeff_df = add_coeff_column(coeff_df, coefficients_1e3_penalty, 'coefficients_L2_1e3')\n",
    "coeff_df = add_coeff_column(coeff_df, coefficients_1e5_penalty, 'coefficients_L2_1e5')"
   ]
  },
  {
   "cell_type": "code",
   "execution_count": 22,
   "metadata": {},
   "outputs": [
    {
     "data": {
      "text/html": [
       "<div>\n",
       "<style scoped>\n",
       "    .dataframe tbody tr th:only-of-type {\n",
       "        vertical-align: middle;\n",
       "    }\n",
       "\n",
       "    .dataframe tbody tr th {\n",
       "        vertical-align: top;\n",
       "    }\n",
       "\n",
       "    .dataframe thead th {\n",
       "        text-align: right;\n",
       "    }\n",
       "</style>\n",
       "<table border=\"1\" class=\"dataframe\">\n",
       "  <thead>\n",
       "    <tr style=\"text-align: right;\">\n",
       "      <th></th>\n",
       "      <th>word</th>\n",
       "      <th>coefficients_L2_0</th>\n",
       "      <th>coefficients_L2_4</th>\n",
       "      <th>coefficients_L2_10</th>\n",
       "      <th>coefficients_L2_1e2</th>\n",
       "      <th>coefficients_L2_1e3</th>\n",
       "      <th>coefficients_L2_1e5</th>\n",
       "    </tr>\n",
       "  </thead>\n",
       "  <tbody>\n",
       "    <tr>\n",
       "      <th>0</th>\n",
       "      <td>intercept</td>\n",
       "      <td>-0.063729</td>\n",
       "      <td>-0.063130</td>\n",
       "      <td>-0.062243</td>\n",
       "      <td>-0.050427</td>\n",
       "      <td>0.000060</td>\n",
       "      <td>0.011362</td>\n",
       "    </tr>\n",
       "    <tr>\n",
       "      <th>1</th>\n",
       "      <td>baby</td>\n",
       "      <td>0.074055</td>\n",
       "      <td>0.073976</td>\n",
       "      <td>0.073859</td>\n",
       "      <td>0.072344</td>\n",
       "      <td>0.059745</td>\n",
       "      <td>0.001784</td>\n",
       "    </tr>\n",
       "    <tr>\n",
       "      <th>2</th>\n",
       "      <td>one</td>\n",
       "      <td>0.012740</td>\n",
       "      <td>0.012482</td>\n",
       "      <td>0.012103</td>\n",
       "      <td>0.007235</td>\n",
       "      <td>-0.008766</td>\n",
       "      <td>-0.001827</td>\n",
       "    </tr>\n",
       "    <tr>\n",
       "      <th>3</th>\n",
       "      <td>great</td>\n",
       "      <td>0.801614</td>\n",
       "      <td>0.796886</td>\n",
       "      <td>0.789924</td>\n",
       "      <td>0.701416</td>\n",
       "      <td>0.376009</td>\n",
       "      <td>0.008950</td>\n",
       "    </tr>\n",
       "    <tr>\n",
       "      <th>4</th>\n",
       "      <td>love</td>\n",
       "      <td>1.058595</td>\n",
       "      <td>1.050897</td>\n",
       "      <td>1.039569</td>\n",
       "      <td>0.896676</td>\n",
       "      <td>0.418361</td>\n",
       "      <td>0.009042</td>\n",
       "    </tr>\n",
       "  </tbody>\n",
       "</table>\n",
       "</div>"
      ],
      "text/plain": [
       "        word  coefficients_L2_0  coefficients_L2_4  coefficients_L2_10  \\\n",
       "0  intercept          -0.063729          -0.063130           -0.062243   \n",
       "1       baby           0.074055           0.073976            0.073859   \n",
       "2        one           0.012740           0.012482            0.012103   \n",
       "3      great           0.801614           0.796886            0.789924   \n",
       "4       love           1.058595           1.050897            1.039569   \n",
       "\n",
       "   coefficients_L2_1e2  coefficients_L2_1e3  coefficients_L2_1e5  \n",
       "0            -0.050427             0.000060             0.011362  \n",
       "1             0.072344             0.059745             0.001784  \n",
       "2             0.007235            -0.008766            -0.001827  \n",
       "3             0.701416             0.376009             0.008950  \n",
       "4             0.896676             0.418361             0.009042  "
      ]
     },
     "execution_count": 22,
     "metadata": {},
     "output_type": "execute_result"
    }
   ],
   "source": [
    "coeff_df.head()"
   ]
  },
  {
   "cell_type": "code",
   "execution_count": 36,
   "metadata": {},
   "outputs": [],
   "source": [
    "top_negative_words = coeff_df.sort_values(by='coefficients_L2_0').head()[['word']]\n",
    "top_negative_features = top_negative_words.word.tolist()"
   ]
  },
  {
   "cell_type": "code",
   "execution_count": 46,
   "metadata": {},
   "outputs": [],
   "source": [
    "top_positive_features = coeff_df.sort_values(by='coefficients_L2_0').tail()[['word']]\n",
    "top_positive_features = list(reversed(top_positive_features.word.tolist()))"
   ]
  },
  {
   "cell_type": "code",
   "execution_count": 47,
   "metadata": {},
   "outputs": [
    {
     "data": {
      "text/plain": [
       "['disappointed', 'money', 'return', 'waste', 'returned']"
      ]
     },
     "execution_count": 47,
     "metadata": {},
     "output_type": "execute_result"
    }
   ],
   "source": [
    "top_negative_features"
   ]
  },
  {
   "cell_type": "code",
   "execution_count": 48,
   "metadata": {},
   "outputs": [
    {
     "data": {
      "text/plain": [
       "['love', 'loves', 'easy', 'perfect', 'great']"
      ]
     },
     "execution_count": 48,
     "metadata": {},
     "output_type": "execute_result"
    }
   ],
   "source": [
    "top_positive_features"
   ]
  },
  {
   "cell_type": "code",
   "execution_count": 57,
   "metadata": {},
   "outputs": [],
   "source": [
    "plt.rcParams['figure.figsize'] = 10, 6\n",
    "\n",
    "def make_coefficient_plot(df, positive_words, negative_words, l2_penalty_list):\n",
    "    cmap_positive = plt.get_cmap('Reds')\n",
    "    cmap_negative = plt.get_cmap('Blues')\n",
    "    \n",
    "    xx = l2_penalty_list\n",
    "    plt.plot(xx, [0.]*len(xx), '--', lw=1, color='k')\n",
    "    \n",
    "    positive_words_df = df[df.word.isin(positive_words)]\n",
    "    negative_words_df = df[df.word.isin(negative_words)]\n",
    "    del positive_words_df['word']\n",
    "    del negative_words_df['word']\n",
    "    \n",
    "    for i in range(len(positive_words)):\n",
    "        color = cmap_positive(0.8*((i+1)/(len(positive_words)*1.2)+0.15))\n",
    "        plt.plot(xx, positive_words_df[i:i+1].as_matrix().flatten(),\n",
    "                 '-', label=positive_words[i], linewidth=4.0, color=color)\n",
    "        \n",
    "    for i in range(len(negative_words)):\n",
    "        color = cmap_negative(0.8*((i+1)/(len(negative_words)*1.2)+0.15))\n",
    "        plt.plot(xx, negative_words_df[i:i+1].as_matrix().flatten(),\n",
    "                 '-', label=negative_words[i], linewidth=4.0, color=color)\n",
    "        \n",
    "    plt.legend(loc='best', ncol=3, prop={'size':16}, columnspacing=0.5)\n",
    "    plt.axis([1, 1e5, -1, 2])\n",
    "    plt.title('Coefficient path')\n",
    "    plt.xlabel('L2 penalty ($\\lambda$)')\n",
    "    plt.ylabel('Coefficient value')\n",
    "    plt.xscale('log')\n",
    "    plt.rcParams.update({'font.size': 18})\n",
    "    plt.tight_layout()"
   ]
  },
  {
   "cell_type": "code",
   "execution_count": 58,
   "metadata": {},
   "outputs": [
    {
     "data": {
      "image/png": "[encoded data removed]",
      "text/plain": [
       "<matplotlib.figure.Figure at 0x10f88fdd8>"
      ]
     },
     "metadata": {},
     "output_type": "display_data"
    }
   ],
   "source": [
    "make_coefficient_plot(coeff_df, top_positive_features, top_negative_features, l2_penalty_list=[0, 4, 10, 1e2, 1e3, 1e5])"
   ]
  },
  {
   "cell_type": "code",
   "execution_count": 67,
   "metadata": {},
   "outputs": [],
   "source": [
    "def get_classification_accuracy(feature_matrix, sentiment, coefficients):\n",
    "    scores = np.dot(feature_matrix, coefficients)\n",
    "    apply_threshold = np.vectorize(lambda x: 1. if x > 0  else -1.)\n",
    "    predictions = apply_threshold(scores)\n",
    "    \n",
    "    num_correct = (predictions == sentiment).sum()\n",
    "    accuracy = num_correct / len(feature_matrix)    \n",
    "    return round(accuracy, 4)"
   ]
  },
  {
   "cell_type": "code",
   "execution_count": 68,
   "metadata": {},
   "outputs": [],
   "source": [
    "train_accuracy = {}\n",
    "train_accuracy['l2_0']   = get_classification_accuracy(feature_matrix_train, sentiment_train, coefficients_0_penalty)\n",
    "train_accuracy['l2_4']   = get_classification_accuracy(feature_matrix_train, sentiment_train, coefficients_4_penalty)\n",
    "train_accuracy['l2_10']  = get_classification_accuracy(feature_matrix_train, sentiment_train, coefficients_10_penalty)\n",
    "train_accuracy['l2_1e2'] = get_classification_accuracy(feature_matrix_train, sentiment_train, coefficients_1e2_penalty)\n",
    "train_accuracy['l2_1e3'] = get_classification_accuracy(feature_matrix_train, sentiment_train, coefficients_1e3_penalty)\n",
    "train_accuracy['l2_1e5'] = get_classification_accuracy(feature_matrix_train, sentiment_train, coefficients_1e5_penalty)\n",
    "\n",
    "validation_accuracy = {}\n",
    "validation_accuracy['l2_0']   = get_classification_accuracy(feature_matrix_valid, sentiment_valid, coefficients_0_penalty)\n",
    "validation_accuracy['l2_4']   = get_classification_accuracy(feature_matrix_valid, sentiment_valid, coefficients_4_penalty)\n",
    "validation_accuracy['l2_10']  = get_classification_accuracy(feature_matrix_valid, sentiment_valid, coefficients_10_penalty)\n",
    "validation_accuracy['l2_1e2'] = get_classification_accuracy(feature_matrix_valid, sentiment_valid, coefficients_1e2_penalty)\n",
    "validation_accuracy['l2_1e3'] = get_classification_accuracy(feature_matrix_valid, sentiment_valid, coefficients_1e3_penalty)\n",
    "validation_accuracy['l2_1e5'] = get_classification_accuracy(feature_matrix_valid, sentiment_valid, coefficients_1e5_penalty)"
   ]
  },
  {
   "cell_type": "code",
   "execution_count": 69,
   "metadata": {},
   "outputs": [
    {
     "name": "stdout",
     "output_type": "stream",
     "text": [
      "L2 penalty = l2_0\n",
      "train accuracy = 0.7852, validation_accuracy = 0.7813\n",
      "--------------------------------------------------------------------------------\n",
      "L2 penalty = l2_10\n",
      "train accuracy = 0.785, validation_accuracy = 0.7817\n",
      "--------------------------------------------------------------------------------\n",
      "L2 penalty = l2_1e2\n",
      "train accuracy = 0.784, validation_accuracy = 0.7811\n",
      "--------------------------------------------------------------------------------\n",
      "L2 penalty = l2_1e3\n",
      "train accuracy = 0.7758, validation_accuracy = 0.7714\n",
      "--------------------------------------------------------------------------------\n",
      "L2 penalty = l2_1e5\n",
      "train accuracy = 0.6803, validation_accuracy = 0.6678\n",
      "--------------------------------------------------------------------------------\n",
      "L2 penalty = l2_4\n",
      "train accuracy = 0.7851, validation_accuracy = 0.7815\n",
      "--------------------------------------------------------------------------------\n"
     ]
    }
   ],
   "source": [
    "# Build a simple report\n",
    "for key in sorted(validation_accuracy.keys()):\n",
    "    print(\"L2 penalty = %s\" % key)\n",
    "    print(\"train accuracy = %s, validation_accuracy = %s\" % (train_accuracy[key], validation_accuracy[key]))\n",
    "    print(\"--------------------------------------------------------------------------------\")"
   ]
  },
  {
   "cell_type": "code",
   "execution_count": 70,
   "metadata": {},
   "outputs": [
    {
     "name": "stdout",
     "output_type": "stream",
     "text": [
      "Highest accuract on Training Set is L2=0\n"
     ]
    }
   ],
   "source": [
    "print(\"Highest accuract on Training Set is L2=0\")"
   ]
  },
  {
   "cell_type": "code",
   "execution_count": 71,
   "metadata": {},
   "outputs": [
    {
     "name": "stdout",
     "output_type": "stream",
     "text": [
      "Highest accuract on Validation Set is L2=10\n"
     ]
    }
   ],
   "source": [
    "print(\"Highest accuract on Validation Set is L2=10\")"
   ]
  },
  {
   "cell_type": "code",
   "execution_count": null,
   "metadata": {},
   "outputs": [],
   "source": []
  },
  {
   "cell_type": "code",
   "execution_count": null,
   "metadata": {},
   "outputs": [],
   "source": []
  },
  {
   "cell_type": "code",
   "execution_count": null,
   "metadata": {},
   "outputs": [],
   "source": []
  }
 ],
 "metadata": {
  "kernelspec": {
   "display_name": "Python 3",
   "language": "python",
   "name": "python3"
  },
  "language_info": {
   "codemirror_mode": {
    "name": "ipython",
    "version": 3
   },
   "file_extension": ".py",
   "mimetype": "text/x-python",
   "name": "python",
   "nbconvert_exporter": "python",
   "pygments_lexer": "ipython3",
   "version": "3.4.6"
  }
 },
 "nbformat": 4,
 "nbformat_minor": 2
}
